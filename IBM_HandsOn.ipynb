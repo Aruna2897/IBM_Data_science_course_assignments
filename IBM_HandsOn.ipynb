{
  "nbformat": 4,
  "nbformat_minor": 0,
  "metadata": {
    "colab": {
      "provenance": []
    },
    "kernelspec": {
      "name": "python3",
      "display_name": "Python 3"
    },
    "language_info": {
      "name": "python"
    }
  },
  "cells": [
    {
      "cell_type": "markdown",
      "source": [
        "# IBM course - Hands on"
      ],
      "metadata": {
        "id": "xdZQprL-PJ20"
      }
    },
    {
      "cell_type": "markdown",
      "source": [
        "##Introduction\n",
        "This is a sample jupyter notebook assignment"
      ],
      "metadata": {
        "id": "PP5L27T-QT5z"
      }
    },
    {
      "cell_type": "markdown",
      "source": [
        "###Data science languages\n",
        "*   R\n",
        "*   python\n",
        "\n",
        "\n",
        "\n"
      ],
      "metadata": {
        "id": "Bhv4XGP4Qjgt"
      }
    },
    {
      "cell_type": "markdown",
      "source": [
        "###Data science libraries\n",
        "python - Tensorflow, keras, pandas, numpy, scikit-learn,seaborn, matplotlib:\n",
        "R - ggplot, dplyr,caret,shiny"
      ],
      "metadata": {
        "id": "upf_Z6G7Q4fz"
      }
    },
    {
      "cell_type": "markdown",
      "source": [
        "###Table for Data Science\n",
        "| Data Science Tools |\n",
        "| :---------------: |\n",
        "| Jupyter Notebook |\n",
        "| R Studio |\n",
        "| git |\n",
        "| gitHub |\n",
        "| VS Code |\n",
        "\n"
      ],
      "metadata": {
        "id": "moTC0t41U9_l"
      }
    },
    {
      "cell_type": "markdown",
      "source": [
        "###Arithmetic expressions\n",
        "Addition(+)\n",
        "Subtraction (-)\n",
        "Multiplication (*)\n",
        "Division (/)\n",
        "modulus (//)"
      ],
      "metadata": {
        "id": "9eabEMriV6YY"
      }
    },
    {
      "cell_type": "code",
      "source": [
        "x = 10\n",
        "y = 20\n",
        "print(x+y)\n",
        "print(x*y)"
      ],
      "metadata": {
        "colab": {
          "base_uri": "https://localhost:8080/"
        },
        "id": "a_hrSAaTO27M",
        "outputId": "158e57c2-e4d6-4bae-e45b-4572f56a4b97"
      },
      "execution_count": 10,
      "outputs": [
        {
          "output_type": "stream",
          "name": "stdout",
          "text": [
            "30\n",
            "200\n"
          ]
        }
      ]
    },
    {
      "cell_type": "code",
      "source": [
        "minutes = int(input(\"Enter the minutes : \" ))\n",
        "hours = minutes/60\n",
        "print(hours)"
      ],
      "metadata": {
        "colab": {
          "base_uri": "https://localhost:8080/"
        },
        "id": "Dit4znNKWm_y",
        "outputId": "cd7218d5-5ffa-47b2-8f51-5dfc6c2555cb"
      },
      "execution_count": 17,
      "outputs": [
        {
          "output_type": "stream",
          "name": "stdout",
          "text": [
            "Enter the minutes : 34\n",
            "0.5666666666666667\n"
          ]
        }
      ]
    },
    {
      "cell_type": "markdown",
      "source": [
        "##Objectives\n",
        "*   Learned the purpose of markcell and codecell\n",
        "*   Practiced the python code\n",
        "\n",
        "\n",
        "\n",
        ""
      ],
      "metadata": {
        "id": "9G53ZUl3XoV9"
      }
    },
    {
      "cell_type": "markdown",
      "source": [
        "###Author : Aruna"
      ],
      "metadata": {
        "id": "mclU7d73YtJK"
      }
    },
    {
      "cell_type": "code",
      "source": [],
      "metadata": {
        "id": "wWUZLm8NYoYd"
      },
      "execution_count": null,
      "outputs": []
    }
  ]
}